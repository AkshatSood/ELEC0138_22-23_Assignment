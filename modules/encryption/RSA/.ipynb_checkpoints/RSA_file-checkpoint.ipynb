{
 "cells": [
  {
   "cell_type": "code",
   "execution_count": 1,
   "id": "b6a65591",
   "metadata": {},
   "outputs": [],
   "source": [
    "import os\n",
    "import hashlib\n",
    "\n",
    "from pathlib import Path\n",
    "from Crypto.PublicKey import RSA\n",
    "from Crypto.Cipher import PKCS1_OAEP"
   ]
  },
  {
   "cell_type": "code",
   "execution_count": 2,
   "id": "2e977303",
   "metadata": {},
   "outputs": [],
   "source": [
    "key = RSA.generate(2048)"
   ]
  },
  {
   "cell_type": "code",
   "execution_count": 3,
   "id": "65370eec",
   "metadata": {},
   "outputs": [],
   "source": [
    "# Save public key and private key\n",
    "key_dir = './keys_RSA'\n",
    "if not os.path.exists(key_dir):\n",
    "        os.makedirs(key_dir)\n",
    "\n",
    "with open(os.path.join(key_dir, 'public_key.txt'), 'wb') as f:\n",
    "    f.write(key.export_key())\n",
    "    \n",
    "with open(os.path.join(key_dir, 'private_key.txt'), 'wb') as f:\n",
    "    f.write(key.publickey().export_key())"
   ]
  },
  {
   "cell_type": "code",
   "execution_count": 4,
   "id": "bce89868",
   "metadata": {},
   "outputs": [],
   "source": [
    "# Read public key and private key\n",
    "if not os.path.exists(key_dir):\n",
    "    print('Cannot find keys')\n",
    "    \n",
    "else:\n",
    "    with open(os.path.join(key_dir, 'public_key.txt'), 'rb') as f:\n",
    "        public_key = RSA.import_key(f.read())\n",
    "\n",
    "    with open(os.path.join(key_dir, 'private_key.txt'), 'rb') as f:\n",
    "        private_key = RSA.import_key(f.read())"
   ]
  },
  {
   "cell_type": "code",
   "execution_count": 5,
   "id": "51225bfb",
   "metadata": {},
   "outputs": [],
   "source": [
    "def encrypt_file(public_key, data_dir):\n",
    "    \n",
    "    BLOCK_SIZE = 128\n",
    "    cipher = PKCS1_OAEP.new(public_key)\n",
    "    \n",
    "    filepaths = list(Path(data_dir).glob(r'**/*.wav'))\n",
    "    print('Detected ' + str(len(filepaths)) + ' audio files in ' + os.path.abspath(data_dir))\n",
    "    \n",
    "    outfile_dir = './audio_encrypted_RSA'\n",
    "    if not os.path.exists(outfile_dir):\n",
    "        os.makedirs(outfile_dir)\n",
    "    print('Encrypted audio file is saved in ' + os.path.abspath(outfile_dir) + '\\n')\n",
    "    \n",
    "    for filename in filepaths:\n",
    "        output_file = os.path.join(outfile_dir, os.path.basename(os.path.splitext(str(filename))[0]) + '_RSA.enc')\n",
    "    \n",
    "        with open(str(filename), 'rb') as f:\n",
    "            plaintext = f.read()\n",
    "        ciphertext = b''\n",
    "        for i in range(0, len(plaintext), BLOCK_SIZE):\n",
    "            block = plaintext[i : i + BLOCK_SIZE]\n",
    "            ciphertext += cipher.encrypt(block)\n",
    "        with open(output_file, 'wb') as f:\n",
    "            f.write(ciphertext)\n",
    "        print(os.path.basename(str(filename)) + ' encrypted as ' + os.path.basename(output_file))\n",
    "\n",
    "def decrypt_file(private_key, data_dir):\n",
    "    BLOCK_SIZE = 128\n",
    "    cipher = PKCS1_OAEP.new(private_key)\n",
    "    \n",
    "    filepaths = list(Path(data_dir).glob(r'**/*.enc'))\n",
    "    print('Detected ' + str(len(filepaths)) + ' encrypted audio files in ' + os.path.abspath(data_dir))\n",
    "    \n",
    "    outfile_dir = './audio_decrypted_RSA'\n",
    "    if not os.path.exists(outfile_dir):\n",
    "        os.makedirs(outfile_dir)\n",
    "    print('Decrypted audio file is saved in ' + os.path.abspath(outfile_dir) + '\\n')\n",
    "    \n",
    "    for filename in filepaths:\n",
    "        output_file = os.path.join(outfile_dir, os.path.basename(os.path.splitext(str(filename))[0]) + '.wav')\n",
    "        with open(str(filename), 'rb') as f:\n",
    "            ciphertext = f.read()\n",
    "        plaintext = b''\n",
    "        for i in range(0, len(ciphertext), key.size_in_bytes()):\n",
    "            block = ciphertext[i : i + key.size_in_bytes()]\n",
    "            plaintext += cipher.decrypt(block)\n",
    "        with open(output_file, 'wb') as f:\n",
    "            f.write(plaintext)\n",
    "        print(os.path.basename(str(filename)) + ' decrypted as ' + os.path.basename(output_file))"
   ]
  },
  {
   "cell_type": "code",
   "execution_count": 6,
   "id": "1bbdde9a",
   "metadata": {},
   "outputs": [
    {
     "name": "stdout",
     "output_type": "stream",
     "text": [
      "Detected 5 audio files in C:\\Users\\Ys1ong\\ELEC0138\\encryption\\RSA\\audio\n",
      "Encrypted audio file is saved in C:\\Users\\Ys1ong\\ELEC0138\\encryption\\RSA\\audio_encrypted_RSA\n",
      "\n",
      "1.wav encrypted as 1_RSA.enc\n",
      "2.wav encrypted as 2_RSA.enc\n",
      "3.wav encrypted as 3_RSA.enc\n",
      "4.wav encrypted as 4_RSA.enc\n",
      "5.wav encrypted as 5_RSA.enc\n"
     ]
    }
   ],
   "source": [
    "encrypt_file(public_key, './audio')"
   ]
  },
  {
   "cell_type": "code",
   "execution_count": 7,
   "id": "fc89fba6",
   "metadata": {},
   "outputs": [
    {
     "name": "stdout",
     "output_type": "stream",
     "text": [
      "Detected 5 encrypted audio files in C:\\Users\\Ys1ong\\ELEC0138\\encryption\\RSA\\audio_encrypted_RSA\n",
      "Decrypted audio file is saved in C:\\Users\\Ys1ong\\ELEC0138\\encryption\\RSA\\audio_decrypted_RSA\n",
      "\n",
      "1_RSA.enc decrypted as 1_RSA.wav\n",
      "2_RSA.enc decrypted as 2_RSA.wav\n",
      "3_RSA.enc decrypted as 3_RSA.wav\n",
      "4_RSA.enc decrypted as 4_RSA.wav\n",
      "5_RSA.enc decrypted as 5_RSA.wav\n"
     ]
    }
   ],
   "source": [
    "decrypt_file(key, './audio_encrypted_RSA')"
   ]
  },
  {
   "cell_type": "code",
   "execution_count": 8,
   "id": "11d931d1",
   "metadata": {},
   "outputs": [],
   "source": [
    "def check_file(file_path):\n",
    "    with open(file_path, 'rb') as f:\n",
    "        md5obj = hashlib.md5()\n",
    "        return md5obj.hexdigest()"
   ]
  },
  {
   "cell_type": "code",
   "execution_count": 9,
   "id": "ba5f56a9",
   "metadata": {},
   "outputs": [
    {
     "data": {
      "text/plain": [
       "'d41d8cd98f00b204e9800998ecf8427e'"
      ]
     },
     "execution_count": 9,
     "metadata": {},
     "output_type": "execute_result"
    }
   ],
   "source": [
    "check_file('./audio/5.wav')"
   ]
  },
  {
   "cell_type": "code",
   "execution_count": 10,
   "id": "4834a4ec",
   "metadata": {},
   "outputs": [
    {
     "data": {
      "text/plain": [
       "'d41d8cd98f00b204e9800998ecf8427e'"
      ]
     },
     "execution_count": 10,
     "metadata": {},
     "output_type": "execute_result"
    }
   ],
   "source": [
    "check_file('./audio_decrypted_RSA/5_RSA.wav')"
   ]
  },
  {
   "cell_type": "code",
   "execution_count": null,
   "id": "7633d66e",
   "metadata": {},
   "outputs": [],
   "source": []
  }
 ],
 "metadata": {
  "kernelspec": {
   "display_name": "Python 3 (ipykernel)",
   "language": "python",
   "name": "python3"
  },
  "language_info": {
   "codemirror_mode": {
    "name": "ipython",
    "version": 3
   },
   "file_extension": ".py",
   "mimetype": "text/x-python",
   "name": "python",
   "nbconvert_exporter": "python",
   "pygments_lexer": "ipython3",
   "version": "3.9.16"
  }
 },
 "nbformat": 4,
 "nbformat_minor": 5
}
