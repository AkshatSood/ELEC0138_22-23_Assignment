{
 "cells": [
  {
   "cell_type": "code",
   "execution_count": 1,
   "id": "9d0e3d56",
   "metadata": {},
   "outputs": [],
   "source": [
    "import os\n",
    "import hashlib\n",
    "\n",
    "from pathlib import Path\n",
    "from Crypto.Cipher import AES\n",
    "from Crypto.Util.Padding import pad, unpad\n",
    "from Crypto.Random import get_random_bytes"
   ]
  },
  {
   "cell_type": "code",
   "execution_count": 2,
   "id": "766eb1ed",
   "metadata": {},
   "outputs": [],
   "source": [
    "key = get_random_bytes(32) #32 bytes (256) or 16(128)"
   ]
  },
  {
   "cell_type": "code",
   "execution_count": 3,
   "id": "ab3e962e",
   "metadata": {},
   "outputs": [],
   "source": [
    "# Save key\n",
    "key_dir = './key_AES'\n",
    "if not os.path.exists(key_dir):\n",
    "        os.makedirs(key_dir)\n",
    "\n",
    "with open(os.path.join(key_dir, 'key.txt'), 'wb') as f:\n",
    "    f.write(key)"
   ]
  },
  {
   "cell_type": "code",
   "execution_count": 4,
   "id": "64d18925",
   "metadata": {},
   "outputs": [],
   "source": [
    "# Read key\n",
    "if not os.path.exists(key_dir):\n",
    "    print('Cannot find key')\n",
    "else:\n",
    "    with open(os.path.join(key_dir, 'key.txt'), 'rb') as f:\n",
    "        key = f.read()"
   ]
  },
  {
   "cell_type": "code",
   "execution_count": 5,
   "id": "fcd74ff2",
   "metadata": {},
   "outputs": [],
   "source": [
    "def encrypt_file(key, data_dir):\n",
    "    \n",
    "    chunksize = 1000 * 1024\n",
    "    \n",
    "    filepaths = list(Path(data_dir).glob(r'**/*.wav'))\n",
    "    print('Detected ' + str(len(filepaths)) + ' audio files in ' + os.path.abspath(data_dir))\n",
    "    \n",
    "    outfile_dir = './audio_encrypted_AES'\n",
    "    if not os.path.exists(outfile_dir):\n",
    "        os.makedirs(outfile_dir)\n",
    "    print('Encrypted audio file is saved in ' + os.path.abspath(outfile_dir) + '\\n')\n",
    "    \n",
    "    for filename in filepaths:\n",
    "        output_file = os.path.join(outfile_dir, os.path.basename(os.path.splitext(str(filename))[0]) + '_AES.enc')\n",
    "        iv = get_random_bytes(AES.block_size)\n",
    "        encryptor = AES.new(key, AES.MODE_CBC, iv)\n",
    "        filesize = os.path.getsize(str(filename))\n",
    "            \n",
    "        with open(str(filename), 'rb') as f:\n",
    "            chunk = f.read(chunksize)\n",
    "        \n",
    "            with open(output_file, 'wb') as f:\n",
    "                f.write(filesize.to_bytes(8, 'big'))\n",
    "                f.write(iv)\n",
    "                chunk = pad(chunk, AES.block_size)\n",
    "                f.write(encryptor.encrypt(chunk))\n",
    "                print(os.path.basename(str(filename)) + ' encrypted as ' + os.path.basename(output_file))\n",
    "\n",
    "def decrypt_file(key, data_dir):\n",
    "    chunksize = 1000 * 1024\n",
    "    \n",
    "    filepaths = list(Path(data_dir).glob(r'**/*.enc'))\n",
    "    print('Detected ' + str(len(filepaths)) + ' encrypted audio files in ' + os.path.abspath(data_dir))\n",
    "    \n",
    "    outfile_dir = './audio_decrypted_AES'\n",
    "    if not os.path.exists(outfile_dir):\n",
    "        os.makedirs(outfile_dir)\n",
    "    print('Decrypted audio file is saved in ' + os.path.abspath(outfile_dir) + '\\n')  \n",
    "        \n",
    "    for filename in filepaths:\n",
    "        output_file = os.path.join(outfile_dir, os.path.basename(os.path.splitext(str(filename))[0]) + '.wav')\n",
    "        with open(str(filename), 'rb') as f:\n",
    "            filesize = int.from_bytes(f.read(8), 'big')\n",
    "            iv = f.read(AES.block_size)\n",
    "            decryptor = AES.new(key, AES.MODE_CBC, iv)\n",
    "            chunk = f.read(chunksize)\n",
    "            \n",
    "            with open(output_file, 'wb') as f:\n",
    "                f.write(decryptor.decrypt(chunk))\n",
    "                f.truncate(filesize)\n",
    "                print(os.path.basename(str(filename)) + ' decrypted as ' + os.path.basename(output_file))"
   ]
  },
  {
   "cell_type": "code",
   "execution_count": 6,
   "id": "345185c1",
   "metadata": {},
   "outputs": [
    {
     "name": "stdout",
     "output_type": "stream",
     "text": [
      "Detected 5 audio files in C:\\Users\\Ys1ong\\ELEC0138\\encryption\\AES\\audio\n",
      "Encrypted audio file is saved in C:\\Users\\Ys1ong\\ELEC0138\\encryption\\AES\\audio_encrypted_AES\n",
      "\n",
      "1.wav encrypted as 1_AES.enc\n",
      "2.wav encrypted as 2_AES.enc\n",
      "3.wav encrypted as 3_AES.enc\n",
      "4.wav encrypted as 4_AES.enc\n",
      "5.wav encrypted as 5_AES.enc\n"
     ]
    }
   ],
   "source": [
    "encrypt_file(key, './audio')"
   ]
  },
  {
   "cell_type": "code",
   "execution_count": 7,
   "id": "80050c04",
   "metadata": {},
   "outputs": [
    {
     "name": "stdout",
     "output_type": "stream",
     "text": [
      "Detected 5 encrypted audio files in C:\\Users\\Ys1ong\\ELEC0138\\encryption\\AES\\audio_encrypted_AES\n",
      "Decrypted audio file is saved in C:\\Users\\Ys1ong\\ELEC0138\\encryption\\AES\\audio_decrypted_AES\n",
      "\n",
      "1_AES.enc decrypted as 1_AES.wav\n",
      "2_AES.enc decrypted as 2_AES.wav\n",
      "3_AES.enc decrypted as 3_AES.wav\n",
      "4_AES.enc decrypted as 4_AES.wav\n",
      "5_AES.enc decrypted as 5_AES.wav\n"
     ]
    }
   ],
   "source": [
    "decrypt_file(key, './audio_encrypted_AES')"
   ]
  },
  {
   "cell_type": "code",
   "execution_count": 8,
   "id": "a8551bfa",
   "metadata": {},
   "outputs": [],
   "source": [
    "def check_file(file_path):\n",
    "    with open(file_path, 'rb') as f:\n",
    "        md5obj = hashlib.md5()\n",
    "        return md5obj.hexdigest()"
   ]
  },
  {
   "cell_type": "code",
   "execution_count": 9,
   "id": "766e865e",
   "metadata": {},
   "outputs": [
    {
     "data": {
      "text/plain": [
       "'d41d8cd98f00b204e9800998ecf8427e'"
      ]
     },
     "execution_count": 9,
     "metadata": {},
     "output_type": "execute_result"
    }
   ],
   "source": [
    "check_file('./audio/5.wav')"
   ]
  },
  {
   "cell_type": "code",
   "execution_count": 10,
   "id": "3fc9037f",
   "metadata": {},
   "outputs": [
    {
     "data": {
      "text/plain": [
       "'d41d8cd98f00b204e9800998ecf8427e'"
      ]
     },
     "execution_count": 10,
     "metadata": {},
     "output_type": "execute_result"
    }
   ],
   "source": [
    "check_file('./audio_decrypted_AES/5_AES.wav')"
   ]
  },
  {
   "cell_type": "code",
   "execution_count": null,
   "id": "b2546631",
   "metadata": {},
   "outputs": [],
   "source": []
  }
 ],
 "metadata": {
  "kernelspec": {
   "display_name": "Python 3 (ipykernel)",
   "language": "python",
   "name": "python3"
  },
  "language_info": {
   "codemirror_mode": {
    "name": "ipython",
    "version": 3
   },
   "file_extension": ".py",
   "mimetype": "text/x-python",
   "name": "python",
   "nbconvert_exporter": "python",
   "pygments_lexer": "ipython3",
   "version": "3.9.16"
  }
 },
 "nbformat": 4,
 "nbformat_minor": 5
}
