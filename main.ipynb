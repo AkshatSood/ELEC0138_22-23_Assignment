{
 "cells": [
  {
   "cell_type": "markdown",
   "metadata": {},
   "source": [
    "# ELEC0138 Security and Privacy Assignment\n",
    "## Group 11 Demo\n",
    "\n",
    "The following notebook contains the demo code for the assignmet project. "
   ]
  },
  {
   "cell_type": "markdown",
   "metadata": {},
   "source": [
    "## Step 0a) Install dependencies\n",
    "Run the following code block in order to install the required dependencies for the project."
   ]
  },
  {
   "cell_type": "code",
   "execution_count": null,
   "metadata": {},
   "outputs": [],
   "source": [
    "!pip install praat-parselmouth>=0.4.*"
   ]
  },
  {
   "cell_type": "markdown",
   "metadata": {},
   "source": [
    "## Step 0b) Define constants"
   ]
  },
  {
   "cell_type": "code",
   "execution_count": null,
   "metadata": {},
   "outputs": [],
   "source": [
    "RAW_AUDIO_DIR = ''\n",
    "TRANSFORMED_AUDIO_DIR = ''\n",
    "ENCRYPTED_AUDIO_DIR = ''\n",
    "DECRYPTED_AUDO_DIR = ''"
   ]
  },
  {
   "cell_type": "markdown",
   "metadata": {},
   "source": [
    "## Step 1) Transform the audio files\n",
    "The transformation code uses the ParselMouth library which uses Praat functions in order to modify and transform the audio files. The raw audio files are read from the source directory and stores them in the output directory. "
   ]
  },
  {
   "cell_type": "code",
   "execution_count": null,
   "metadata": {},
   "outputs": [],
   "source": [
    "def __transform_audio(snd):\n",
    "    \"\"\"Transforms the provided audio file\n",
    "\n",
    "    Args:\n",
    "        snd (parselmouth.Sound): sound to be transformed\n",
    "\n",
    "    Returns:\n",
    "        parselmouth.Sound: the transformed sound\n",
    "    \"\"\"\n",
    "    pitch = snd.to_pitch()\n",
    "    medain_pitch = call(pitch, \"Get quantile\", 0, 0, 0.5, \"Hertz\")\n",
    "    new_pitch = medain_pitch + self.pitch_shift\n",
    "    transformed_snd = call(snd, \"Change gender\", 100, 500, self.formant_shift_factor, new_pitch, 1, 1)\n",
    "\n",
    "    return transformed_snd\n",
    "\n",
    "\n",
    "def transform(data_dir, output_dir):\n",
    "    \"\"\"Transforms all the audio files from the raw dataset\n",
    "    \"\"\"\n",
    "    print('=> Transforming raw audio files...')\n",
    "\n",
    "    # Create the folder structure in the destination director\n",
    "    if not self.dir_exists(output_dir):\n",
    "        os.makedirs(output_dir)\n",
    "    \n",
    "    raw_files = set()\n",
    "    for dir_, _, files in os.walk(data_dir):\n",
    "        for file_name in files:\n",
    "            if file_name.endswith('.flac'):\n",
    "                rel_dir = os.path.relpath(dir_, data_dir)\n",
    "                rel_file = os.path.join(rel_dir, file_name)\n",
    "                raw_files.add(rel_file)\n",
    "\n",
    "    # Check if any raw files need to be processed\n",
    "    if len(raw_files) == 0:\n",
    "        print('\\tUnable to find any raw files. Skipping this step.')\n",
    "    else:\n",
    "        print(f'\\tTransforming {len(raw_files)} audio files...')\n",
    "\n",
    "        start_time = time.time()\n",
    "        checkpoint = int(len(raw_files)/PROGRESS_NUM)\n",
    "\n",
    "        # Transform the all the audio files\n",
    "        for idx, file_sub_path in enumerate(raw_files):\n",
    "\n",
    "            raw_file_path = os.path.join(data_dir, file_sub_path).replace('\\\\', '/')\n",
    "            file_name = os.path.basename(file_sub_path)\n",
    "            subdirs = os.path.dirname(file_sub_path)\n",
    "            output_file_name = os.path.join(output_dir, subdirs, f'transformed_{file_name}').replace(\"\\\\\",\"/\")\n",
    "\n",
    "            snd = parselmouth.Sound(raw_file_path)\n",
    "            transformed_snd = __transform_audio(snd)\n",
    "            transformed_snd.save(output_file_name, self.output_audio_encoding)\n",
    "\n",
    "        print('\\tSuccessfully transformed audio files.')"
   ]
  },
  {
   "cell_type": "code",
   "execution_count": null,
   "metadata": {},
   "outputs": [],
   "source": [
    "transform(RAW_AUDIO_DIR, TRANSFORMED_AUDIO_DIR)"
   ]
  }
 ],
 "metadata": {
  "kernelspec": {
   "display_name": "Python 3",
   "language": "python",
   "name": "python3"
  },
  "language_info": {
   "codemirror_mode": {
    "name": "ipython",
    "version": 3
   },
   "file_extension": ".py",
   "mimetype": "text/x-python",
   "name": "python",
   "nbconvert_exporter": "python",
   "pygments_lexer": "ipython3",
   "version": "3.7.3"
  }
 },
 "nbformat": 4,
 "nbformat_minor": 4
}
