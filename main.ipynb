{
 "cells": [
  {
   "cell_type": "markdown",
   "metadata": {},
   "source": [
    "# ELEC0138 Security and Privacy Assignment\n",
    "## Group 11 Demo\n",
    "\n",
    "The following notebook contains the demo code for the assignmet project. "
   ]
  },
  {
   "cell_type": "markdown",
   "metadata": {},
   "source": [
    "## Step 0a) Install dependencies\n",
    "Run the following code block in order to install the required dependencies for the project."
   ]
  },
  {
   "cell_type": "code",
   "execution_count": 1,
   "metadata": {},
   "outputs": [
    {
     "name": "stdout",
     "output_type": "stream",
     "text": [
      "Collecting praat-parselmouth\n",
      "  Downloading praat_parselmouth-0.4.3-cp39-cp39-win_amd64.whl (8.9 MB)\n",
      "     ---------------------------------------- 0.0/8.9 MB ? eta -:--:--\n",
      "     ----- ---------------------------------- 1.3/8.9 MB 27.7 MB/s eta 0:00:01\n",
      "     ------------- -------------------------- 3.0/8.9 MB 31.8 MB/s eta 0:00:01\n",
      "     ------------------ --------------------- 4.2/8.9 MB 30.2 MB/s eta 0:00:01\n",
      "     ------------------------- -------------- 5.7/8.9 MB 30.3 MB/s eta 0:00:01\n",
      "     -------------------------------- ------- 7.2/8.9 MB 30.5 MB/s eta 0:00:01\n",
      "     -------------------------------------- - 8.6/8.9 MB 30.5 MB/s eta 0:00:01\n",
      "     ---------------------------------------  8.9/8.9 MB 31.7 MB/s eta 0:00:01\n",
      "     ---------------------------------------- 8.9/8.9 MB 26.0 MB/s eta 0:00:00\n",
      "Collecting numpy>=1.7.0\n",
      "  Downloading numpy-1.24.2-cp39-cp39-win_amd64.whl (14.9 MB)\n",
      "     ---------------------------------------- 0.0/14.9 MB ? eta -:--:--\n",
      "     --- ------------------------------------ 1.3/14.9 MB 26.8 MB/s eta 0:00:01\n",
      "     ------ --------------------------------- 2.5/14.9 MB 26.5 MB/s eta 0:00:01\n",
      "     ---------- ----------------------------- 3.8/14.9 MB 26.6 MB/s eta 0:00:01\n",
      "     ------------- -------------------------- 5.1/14.9 MB 26.9 MB/s eta 0:00:01\n",
      "     ----------------- ---------------------- 6.4/14.9 MB 27.3 MB/s eta 0:00:01\n",
      "     -------------------- ------------------- 7.7/14.9 MB 27.2 MB/s eta 0:00:01\n",
      "     ------------------------ --------------- 9.1/14.9 MB 27.8 MB/s eta 0:00:01\n",
      "     --------------------------- ----------- 10.5/14.9 MB 27.3 MB/s eta 0:00:01\n",
      "     ------------------------------- ------- 11.8/14.9 MB 27.3 MB/s eta 0:00:01\n",
      "     ---------------------------------- ---- 13.3/14.9 MB 28.4 MB/s eta 0:00:01\n",
      "     --------------------------------------  14.6/14.9 MB 28.4 MB/s eta 0:00:01\n",
      "     --------------------------------------  14.9/14.9 MB 29.7 MB/s eta 0:00:01\n",
      "     --------------------------------------- 14.9/14.9 MB 24.2 MB/s eta 0:00:00\n",
      "Installing collected packages: numpy, praat-parselmouth\n",
      "Successfully installed numpy-1.24.2 praat-parselmouth-0.4.3\n",
      "Requirement already satisfied: pycryptodome in c:\\users\\yslon\\anaconda3\\envs\\elec0138\\lib\\site-packages (3.17)\n"
     ]
    }
   ],
   "source": [
    "!pip install praat-parselmouth\n",
    "!pip install pycryptodome\n",
    "\n"
   ]
  },
  {
   "cell_type": "code",
   "execution_count": 6,
   "metadata": {},
   "outputs": [],
   "source": [
    "import os\n",
    "import time\n",
    "import hashlib\n",
    "\n",
    "import parselmouth\n",
    "from parselmouth.praat import call\n",
    "\n",
    "from pathlib import Path\n",
    "from Crypto.PublicKey import RSA\n",
    "from Crypto.Util.Padding import pad\n",
    "from Crypto.Cipher import AES, PKCS1_OAEP\n",
    "from Crypto.Random import get_random_bytes"
   ]
  },
  {
   "cell_type": "markdown",
   "metadata": {},
   "source": [
    "## Step 0b) Define constants"
   ]
  },
  {
   "cell_type": "code",
   "execution_count": 3,
   "metadata": {},
   "outputs": [],
   "source": [
    "RAW_AUDIO_DIR = './demo/raw'\n",
    "TRANSFORMED_AUDIO_DIR = './demo/transformed'\n",
    "ENCRYPTED_AUDIO_DIR = ''\n",
    "DECRYPTED_AUDO_DIR = ''"
   ]
  },
  {
   "cell_type": "markdown",
   "metadata": {},
   "source": [
    "## Step 1) Transform the audio files\n",
    "The transformation code uses the ParselMouth library which uses Praat functions in order to modify and transform the audio files. The raw audio files are read from the source directory and stores them in the output directory. "
   ]
  },
  {
   "cell_type": "code",
   "execution_count": 19,
   "metadata": {},
   "outputs": [],
   "source": [
    "def __transform_audio(snd):\n",
    "    \"\"\"Transforms the provided audio file\n",
    "\n",
    "    Args:\n",
    "        snd (parselmouth.Sound): sound to be transformed\n",
    "\n",
    "    Returns:\n",
    "        parselmouth.Sound: the transformed sound\n",
    "    \"\"\"\n",
    "    pitch_shift = 60\n",
    "    formant_shift_factor = 1.5 \n",
    "    \n",
    "    pitch = snd.to_pitch()\n",
    "    medain_pitch = call(pitch, \"Get quantile\", 0, 0, 0.5, \"Hertz\")\n",
    "    new_pitch = medain_pitch + pitch_shift\n",
    "    transformed_snd = call(snd, \"Change gender\", 100, 500, formant_shift_factor, new_pitch, 1, 1)\n",
    "\n",
    "    return transformed_snd\n",
    "\n",
    "\n",
    "def transform(data_dir, output_dir):\n",
    "    \"\"\"Transforms all the audio files from the raw dataset\n",
    "    \"\"\"\n",
    "    print('=> Transforming raw audio files...')\n",
    "    \n",
    "    raw_files = set()\n",
    "    for dir_, _, files in os.walk(data_dir):\n",
    "        for file_name in files:\n",
    "            if file_name.endswith('.flac'):\n",
    "                rel_dir = os.path.relpath(dir_, data_dir)\n",
    "                rel_file = os.path.join(rel_dir, file_name)\n",
    "                raw_files.add(rel_file)\n",
    "\n",
    "    # Check if any raw files need to be processed\n",
    "    if len(raw_files) == 0:\n",
    "        print('\\tUnable to find any raw files. Skipping this step.')\n",
    "    else:\n",
    "        print(f'\\tTransforming {len(raw_files)} audio files...')\n",
    "\n",
    "        # Transform the all the audio files\n",
    "        for idx, file_sub_path in enumerate(raw_files):\n",
    "\n",
    "            raw_file_path = os.path.join(data_dir, file_sub_path).replace('\\\\', '/')\n",
    "            file_name = os.path.basename(file_sub_path)\n",
    "            subdirs = os.path.dirname(file_sub_path)\n",
    "            \n",
    "            output_file_name = output_dir + '/transformed_' + file_name\n",
    "\n",
    "            snd = parselmouth.Sound(raw_file_path)\n",
    "            transformed_snd = __transform_audio(snd)\n",
    "            print(output_file_name)\n",
    "            transformed_snd.save(output_file_name, parselmouth.SoundFileFormat.FLAC)\n",
    "\n",
    "        print('\\tSuccessfully transformed audio files.')"
   ]
  },
  {
   "cell_type": "code",
   "execution_count": 20,
   "metadata": {},
   "outputs": [
    {
     "name": "stdout",
     "output_type": "stream",
     "text": [
      "=> Transforming raw audio files...\n",
      "\tTransforming 10 audio files...\n",
      "./demo/transformed/transformed_1272-128104-0000.flac\n"
     ]
    },
    {
     "ename": "PraatError",
     "evalue": "Cannot create file “C:\\Users\\yslon\\Desktop\\ELEC0138_22-23_Assignment\\.\\demo\\transformed\\transformed_1272-128104-0000.flac”.\r\nSound \"untitled_changeGender\": not written to 16-bit sound file “C:\\Users\\yslon\\Desktop\\ELEC0138_22-23_Assignment\\.\\demo\\transformed\\transformed_1272-128104-0000.flac”.\r",
     "output_type": "error",
     "traceback": [
      "\u001b[1;31m---------------------------------------------------------------------------\u001b[0m",
      "\u001b[1;31mPraatError\u001b[0m                                Traceback (most recent call last)",
      "Cell \u001b[1;32mIn[20], line 1\u001b[0m\n\u001b[1;32m----> 1\u001b[0m \u001b[43mtransform\u001b[49m\u001b[43m(\u001b[49m\u001b[43mRAW_AUDIO_DIR\u001b[49m\u001b[43m,\u001b[49m\u001b[43m \u001b[49m\u001b[43mTRANSFORMED_AUDIO_DIR\u001b[49m\u001b[43m)\u001b[49m\n",
      "Cell \u001b[1;32mIn[19], line 53\u001b[0m, in \u001b[0;36mtransform\u001b[1;34m(data_dir, output_dir)\u001b[0m\n\u001b[0;32m     51\u001b[0m     transformed_snd \u001b[38;5;241m=\u001b[39m __transform_audio(snd)\n\u001b[0;32m     52\u001b[0m     \u001b[38;5;28mprint\u001b[39m(output_file_name)\n\u001b[1;32m---> 53\u001b[0m     \u001b[43mtransformed_snd\u001b[49m\u001b[38;5;241;43m.\u001b[39;49m\u001b[43msave\u001b[49m\u001b[43m(\u001b[49m\u001b[43moutput_file_name\u001b[49m\u001b[43m,\u001b[49m\u001b[43m \u001b[49m\u001b[43mparselmouth\u001b[49m\u001b[38;5;241;43m.\u001b[39;49m\u001b[43mSoundFileFormat\u001b[49m\u001b[38;5;241;43m.\u001b[39;49m\u001b[43mFLAC\u001b[49m\u001b[43m)\u001b[49m\n\u001b[0;32m     55\u001b[0m \u001b[38;5;28mprint\u001b[39m(\u001b[38;5;124m'\u001b[39m\u001b[38;5;130;01m\\t\u001b[39;00m\u001b[38;5;124mSuccessfully transformed audio files.\u001b[39m\u001b[38;5;124m'\u001b[39m)\n",
      "\u001b[1;31mPraatError\u001b[0m: Cannot create file “C:\\Users\\yslon\\Desktop\\ELEC0138_22-23_Assignment\\.\\demo\\transformed\\transformed_1272-128104-0000.flac”.\r\nSound \"untitled_changeGender\": not written to 16-bit sound file “C:\\Users\\yslon\\Desktop\\ELEC0138_22-23_Assignment\\.\\demo\\transformed\\transformed_1272-128104-0000.flac”.\r"
     ]
    }
   ],
   "source": [
    "transform(RAW_AUDIO_DIR, TRANSFORMED_AUDIO_DIR)"
   ]
  },
  {
   "cell_type": "code",
   "execution_count": null,
   "metadata": {},
   "outputs": [],
   "source": []
  },
  {
   "cell_type": "code",
   "execution_count": null,
   "metadata": {},
   "outputs": [],
   "source": []
  },
  {
   "cell_type": "code",
   "execution_count": null,
   "metadata": {},
   "outputs": [],
   "source": []
  },
  {
   "cell_type": "markdown",
   "metadata": {},
   "source": [
    "## Step 2) Encrypt and decrypt the audio files"
   ]
  },
  {
   "cell_type": "code",
   "execution_count": null,
   "metadata": {},
   "outputs": [],
   "source": [
    "key_dir = './keys'\n",
    "audio_dir = 'demo-test'"
   ]
  },
  {
   "cell_type": "code",
   "execution_count": null,
   "metadata": {},
   "outputs": [],
   "source": [
    "import os\n",
    "import time\n",
    "import hashlib\n",
    "\n",
    "from pathlib import Path\n",
    "from Crypto.PublicKey import RSA\n",
    "from Crypto.Util.Padding import pad\n",
    "from Crypto.Cipher import AES, PKCS1_OAEP\n",
    "from Crypto.Random import get_random_bytes"
   ]
  },
  {
   "cell_type": "code",
   "execution_count": null,
   "metadata": {},
   "outputs": [],
   "source": []
  },
  {
   "cell_type": "markdown",
   "metadata": {},
   "source": [
    "### Step 2.1) Generate AES and RSA keys and save to local files"
   ]
  },
  {
   "cell_type": "code",
   "execution_count": null,
   "metadata": {},
   "outputs": [],
   "source": [
    "AES_key = get_random_bytes(32) #32 bytes (256) or 16 bytes (128)\n",
    "RSA_key = RSA.generate(2048)"
   ]
  },
  {
   "cell_type": "code",
   "execution_count": null,
   "metadata": {},
   "outputs": [],
   "source": [
    "# Save key\n",
    "if not os.path.exists(key_dir):\n",
    "        os.makedirs(key_dir)\n",
    "\n",
    "with open(os.path.join(key_dir, 'AES_key.txt'), 'wb') as f:\n",
    "    f.write(AES_key)\n",
    "\n",
    "with open(os.path.join(key_dir, 'public_key.txt'), 'wb') as f:\n",
    "    f.write(RSA_key.publickey().export_key())\n",
    "\n",
    "with open(os.path.join(key_dir, 'private_key.txt'), 'wb') as f:\n",
    "    f.write(RSA_key.export_key())"
   ]
  },
  {
   "cell_type": "code",
   "execution_count": null,
   "metadata": {},
   "outputs": [],
   "source": []
  },
  {
   "cell_type": "markdown",
   "metadata": {},
   "source": [
    "### Step 2.2) Encrypt the audio files and the AES key\n",
    "The audio files are encrypted with AES, and the AES key is encrypted with the public key of RSA"
   ]
  },
  {
   "cell_type": "code",
   "execution_count": null,
   "metadata": {},
   "outputs": [],
   "source": [
    "def copy_folders(src_folder, dest_folder):\n",
    "    for item in os.listdir(src_folder):\n",
    "        if os.path.isdir(os.path.join(src_folder, item)):\n",
    "            # Copy folders\n",
    "            os.makedirs(os.path.join(dest_folder, item), exist_ok =  True)\n",
    "            # Copy subfolders\n",
    "            copy_folders(os.path.join(src_folder, item), os.path.join(dest_folder, item))"
   ]
  },
  {
   "cell_type": "code",
   "execution_count": null,
   "metadata": {},
   "outputs": [],
   "source": [
    "def encrypt_file(key_dir, data_dir):\n",
    "    if not os.path.exists(key_dir):\n",
    "        print('Cannot find key')\n",
    "        \n",
    "    else:\n",
    "        with open(os.path.join(key_dir, 'AES_key.txt'), 'rb') as f:\n",
    "            key = f.read()\n",
    "        with open(os.path.join(key_dir, 'public_key.txt'), 'rb') as f:\n",
    "            public_key = RSA.import_key(f.read())\n",
    "    \n",
    "        i = 1\n",
    "        BLOCK_SIZE = 128\n",
    "        prev_dir_path = ''\n",
    "        chunksize = 1000 * 1024\n",
    "        cipher = PKCS1_OAEP.new(public_key)\n",
    "\n",
    "        filepaths = list(Path(data_dir).glob(r'**/*.flac'))\n",
    "        print('Detected ' + str(len(filepaths)) + ' audio files in ' + os.path.abspath(data_dir))\n",
    "\n",
    "        outfile_dir = data_dir + '_encrypted'\n",
    "        if not os.path.exists(outfile_dir):\n",
    "            os.makedirs(outfile_dir)\n",
    "        print('Encrypted audio file is saved in', os.path.abspath(outfile_dir))\n",
    "\n",
    "        copy_folders(data_dir, outfile_dir)\n",
    "        \n",
    "        start_time = time.time()\n",
    "\n",
    "        for filename in filepaths:\n",
    "\n",
    "            output_file = os.path.join(outfile_dir, os.path.splitext(str(filename))[0] + '_AES.enc')\n",
    "            output_file = output_file.replace(data_dir + '\\\\', '')\n",
    "\n",
    "            dir_path = os.path.dirname(output_file)\n",
    "            if dir_path != prev_dir_path:\n",
    "                print('\\nFor files in', os.path.abspath(dir_path))\n",
    "                prev_dir_path = dir_path\n",
    "\n",
    "            iv = get_random_bytes(AES.block_size)\n",
    "            encryptor = AES.new(key, AES.MODE_CBC, iv)\n",
    "            filesize = os.path.getsize(str(filename))\n",
    "\n",
    "            with open(str(filename), 'rb') as f:\n",
    "                chunk = f.read(chunksize)\n",
    "\n",
    "                with open(output_file, 'wb') as f:\n",
    "                    f.write(filesize.to_bytes(8, 'big'))\n",
    "                    f.write(iv)\n",
    "                    chunk = pad(chunk, AES.block_size)\n",
    "                    f.write(encryptor.encrypt(chunk))\n",
    "                    end_time_in = time.time()\n",
    "                    print(str(i) + ' ' + os.path.basename(str(filename)) + ' encrypted as ' \n",
    "                          + os.path.basename(output_file) + ' %.2f' % (end_time_in - start_time) + 's')\n",
    "                    i += 1\n",
    "        \n",
    "        # Encrypt AES key\n",
    "        with open(os.path.join(key_dir, 'AES_key.txt'), 'rb') as f:\n",
    "            plaintext = f.read()\n",
    "        ciphertext = b''\n",
    "        for i in range(0, len(plaintext), BLOCK_SIZE):\n",
    "            block = plaintext[i : i + BLOCK_SIZE]\n",
    "            ciphertext += cipher.encrypt(block)\n",
    "        with open(os.path.join(key_dir, 'AES_key.enc'), 'wb') as f:\n",
    "            f.write(ciphertext)\n",
    "        print('\\nAES key is encrypted as AES_key.enc and saved in', os.path.abspath(os.path.join(key_dir, 'AES_key.enc')))\n",
    "        \n",
    "        end_time = time.time()\n",
    "        \n",
    "        print('\\nTime for encrypting ' + str(len(filepaths)) + ' files is %.2f' % (end_time - start_time) + 's')"
   ]
  },
  {
   "cell_type": "code",
   "execution_count": null,
   "metadata": {},
   "outputs": [],
   "source": [
    "encrypt_file(key_dir, audio_dir)"
   ]
  },
  {
   "cell_type": "code",
   "execution_count": null,
   "metadata": {},
   "outputs": [],
   "source": []
  },
  {
   "cell_type": "markdown",
   "metadata": {},
   "source": [
    "### Step 2.3) Decrypt the AES key and the audio files\n",
    "The AES key is decrypted with the private key of RSA and the audio files are decrypted bwith the AES key"
   ]
  },
  {
   "cell_type": "code",
   "execution_count": null,
   "metadata": {},
   "outputs": [],
   "source": [
    "def decrypt_file(key_dir, data_dir):\n",
    "    if not os.path.exists(key_dir):\n",
    "        print('Cannot find key')\n",
    "        \n",
    "    else:\n",
    "        with open(os.path.join(key_dir, 'private_key.txt'), 'rb') as f:\n",
    "            private_key = RSA.import_key(f.read())\n",
    "    \n",
    "        BLOCK_SIZE = 128\n",
    "        prev_dir_path = ''\n",
    "        chunksize = 1000 * 1024\n",
    "        cipher = PKCS1_OAEP.new(private_key)\n",
    "        \n",
    "        with open(os.path.join(key_dir, 'AES_key.enc'), 'rb') as f:\n",
    "            ciphertext = f.read()\n",
    "        plaintext = b''\n",
    "        for i in range(0, len(ciphertext), private_key.size_in_bytes()):\n",
    "            block = ciphertext[i : i + private_key.size_in_bytes()]\n",
    "            plaintext += cipher.decrypt(block)\n",
    "        with open(os.path.join(key_dir, 'AES_key_dec.txt'), 'wb') as f:\n",
    "            f.write(plaintext)\n",
    "        print('Decrypted AES key AES_key_dec.txt is saved in', os.path.abspath(os.path.join(key_dir, 'AES_key_dec.txt')))\n",
    "        with open(os.path.join(key_dir, 'AES_key_dec.txt'), 'rb') as f:\n",
    "            key = f.read()\n",
    "\n",
    "        filepaths = list(Path(data_dir).glob(r'**/*.enc'))\n",
    "        print('\\nDetected ' + str(len(filepaths)) + ' encrypted audio files in ' + os.path.abspath(data_dir))\n",
    "\n",
    "        outfile_dir = data_dir.replace('encrypted', 'decrypted')\n",
    "        if not os.path.exists(outfile_dir):\n",
    "            os.makedirs(outfile_dir)\n",
    "        print('Decrypted audio file is saved in', os.path.abspath(outfile_dir))\n",
    "\n",
    "        copy_folders(data_dir, outfile_dir)\n",
    "        \n",
    "        start_time = time.time()\n",
    "\n",
    "        i = 1\n",
    "        \n",
    "        for filename in filepaths:\n",
    "\n",
    "            output_file = os.path.join(outfile_dir, os.path.splitext(str(filename))[0] + '.flac')\n",
    "            output_file = output_file.replace(data_dir + '\\\\', '')\n",
    "\n",
    "            dir_path = os.path.dirname(output_file)\n",
    "            if dir_path != prev_dir_path:\n",
    "                print('\\nFor files in', os.path.abspath(dir_path))\n",
    "                prev_dir_path = dir_path\n",
    "\n",
    "            with open(str(filename), 'rb') as f:\n",
    "                filesize = int.from_bytes(f.read(8), 'big')\n",
    "                iv = f.read(AES.block_size)\n",
    "                decryptor = AES.new(key, AES.MODE_CBC, iv)\n",
    "                chunk = f.read(chunksize)\n",
    "\n",
    "                with open(output_file, 'wb') as f:\n",
    "                    f.write(decryptor.decrypt(chunk))\n",
    "                    f.truncate(filesize)\n",
    "                    end_time_in = time.time()\n",
    "                    print(str(i) + ' ' + os.path.basename(str(filename)) + ' decrypted as ' \n",
    "                          + os.path.basename(output_file) + ' %.2f' % (end_time_in - start_time) + 's')\n",
    "                    i += 1\n",
    "                \n",
    "        end_time = time.time()\n",
    "        \n",
    "        print('\\nTime for decrypting ' + str(len(filepaths)) + ' files is %.2f' % (end_time - start_time) + 's')"
   ]
  },
  {
   "cell_type": "code",
   "execution_count": null,
   "metadata": {},
   "outputs": [],
   "source": [
    "decrypt_file(key_dir, audio_dir + '_encrypted')"
   ]
  },
  {
   "cell_type": "code",
   "execution_count": null,
   "metadata": {},
   "outputs": [],
   "source": []
  },
  {
   "cell_type": "markdown",
   "metadata": {},
   "source": [
    "### Step 2.4) Compare the decrypted audio files with the original audio files"
   ]
  },
  {
   "cell_type": "code",
   "execution_count": null,
   "metadata": {},
   "outputs": [],
   "source": [
    "def hash_file(data_dir):\n",
    "    hash_dict = {}\n",
    "    \n",
    "    filepaths = list(Path(data_dir).glob(r'**/*.flac'))\n",
    "    print('Detected ' + str(len(filepaths)) + ' audio files in ' + os.path.abspath(data_dir))\n",
    "    \n",
    "    for filename in filepaths:\n",
    "            \n",
    "        with open(filename, 'rb') as f:\n",
    "            md5obj = hashlib.md5()\n",
    "            md5obj.update(f.read())\n",
    "            hash_value = md5obj.hexdigest()\n",
    "            #print(os.path.basename(str(filename)) + ' hash value is ' + hash_value)\n",
    "            \n",
    "            if hash_value in hash_dict:\n",
    "                hash_dict[hash_value].append(filename)\n",
    "            else:\n",
    "                hash_dict[hash_value] = [filename]\n",
    "    \n",
    "    return hash_dict\n",
    "\n",
    "def compare_hash(data_dir1, data_dir2):\n",
    "    i = 0\n",
    "    filepaths1 = list(Path(data_dir1).glob(r'**/*.flac'))\n",
    "    filepaths2 = list(Path(data_dir2).glob(r'**/*.flac'))\n",
    "    \n",
    "    hash_dict1 = hash_file(data_dir1)\n",
    "    hash_dict2 = hash_file(data_dir2)\n",
    "    \n",
    "    for hash_value in hash_dict1:\n",
    "        if hash_value in hash_dict2:\n",
    "            i += 1\n",
    "            print('\\nFiles with hash value ' + hash_value + ' found in both directories:')\n",
    "            print([os.path.abspath(str(f)) for f in hash_dict1[hash_value]][0])\n",
    "            print([os.path.abspath(str(f)) for f in hash_dict2[hash_value]][0])\n",
    "            \n",
    "    print('\\n{} ({:.2%}) files are the same after decrypted compared to original files'.format(i, i/len(filepaths1)))"
   ]
  },
  {
   "cell_type": "code",
   "execution_count": null,
   "metadata": {},
   "outputs": [],
   "source": [
    "compare_hash(audio_dir, audio_dir + '_decrypted')"
   ]
  }
 ],
 "metadata": {
  "kernelspec": {
   "display_name": "Python 3 (ipykernel)",
   "language": "python",
   "name": "python3"
  },
  "language_info": {
   "codemirror_mode": {
    "name": "ipython",
    "version": 3
   },
   "file_extension": ".py",
   "mimetype": "text/x-python",
   "name": "python",
   "nbconvert_exporter": "python",
   "pygments_lexer": "ipython3",
   "version": "3.9.16"
  }
 },
 "nbformat": 4,
 "nbformat_minor": 4
}
